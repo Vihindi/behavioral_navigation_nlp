{
  "nbformat": 4,
  "nbformat_minor": 0,
  "metadata": {
    "colab": {
      "provenance": [],
      "authorship_tag": "ABX9TyMDPnhK0Nzn2zamvK1mpuzd",
      "include_colab_link": true
    },
    "kernelspec": {
      "name": "python3",
      "display_name": "Python 3"
    },
    "language_info": {
      "name": "python"
    }
  },
  "cells": [
    {
      "cell_type": "markdown",
      "metadata": {
        "id": "view-in-github",
        "colab_type": "text"
      },
      "source": [
        "<a href=\"https://colab.research.google.com/github/Vihindi/behavioral_navigation_nlp/blob/master/NLP_LivingRoom.ipynb\" target=\"_parent\"><img src=\"https://colab.research.google.com/assets/colab-badge.svg\" alt=\"Open In Colab\"/></a>"
      ]
    },
    {
      "cell_type": "code",
      "execution_count": 2,
      "metadata": {
        "colab": {
          "base_uri": "https://localhost:8080/"
        },
        "id": "m3Enoa7I_Fqu",
        "outputId": "81b72cc6-619c-4980-96f8-b42e86189e3a"
      },
      "outputs": [
        {
          "output_type": "stream",
          "name": "stdout",
          "text": [
            "Room Name: Living Room\n",
            "Dimensions: 15 x 20\n",
            "living room: {'Type': 'sofa', 'Location': 'against the wall'}\n",
            "Number of Windows: 2\n",
            "Light Source: natural\n",
            "[TV]: {'Location': 'on the media console'}\n"
          ]
        }
      ],
      "source": [
        "import re #Regex library\n",
        "\n",
        "def extract_features(text):\n",
        "    features = {}\n",
        "\n",
        "    # Basic Information\n",
        "    # search for patterns in the text\n",
        "    room_name_match = re.search(r\"Room Name: \\[([^\\]]+)\\]\", text)\n",
        "    dimensions_match = re.search(r\"Dimensions: \\[([^\\]]+)\\]\", text)\n",
        "\n",
        "    if room_name_match:\n",
        "        features['Room Name'] = room_name_match.group(1)\n",
        "    if dimensions_match:\n",
        "        features['Dimensions'] = dimensions_match.group(1)\n",
        "\n",
        "    # Furniture and Layout\n",
        "    \"\"\"re.findall use to find all occurrences of a pattern related to furniture in the text.\n",
        "     For each match, it extracts the type and location of the furniture and stores it in the features dictionary\"\"\"\n",
        "    furniture_matches = re.findall(r\"The (.+?) is furnished with a (.+?) placed (.+?)\\.\", text)\n",
        "    for furniture_match in furniture_matches:\n",
        "        features[furniture_match[0]] = {'Type': furniture_match[1], 'Location': furniture_match[2]}\n",
        "\n",
        "    # Accessibility Features\n",
        "    windows_match = re.search(r\"The room has (\\d+) windows, providing (natural|artificial) light.\", text)\n",
        "    flooring_match = re.search(r\"The flooring is made of \\[([^\\]]+)\\].\", text)\n",
        "\n",
        "    if windows_match:\n",
        "        features['Number of Windows'] = int(windows_match.group(1))\n",
        "        features['Light Source'] = windows_match.group(2)\n",
        "    if flooring_match:\n",
        "        features['Flooring Material'] = flooring_match.group(1)\n",
        "\n",
        "    # Technology and Devices\n",
        "    devices_match = re.findall(r\"(\\[.+?\\]) is located (.+?)\\.\", text)\n",
        "    for device_match in devices_match:\n",
        "        features[device_match[0]] = {'Location': device_match[1]}\n",
        "\n",
        "    # Other Details\n",
        "    decorative_elements_match = re.search(r\"Decorative elements include \\[([^\\]]+)\\].\", text)\n",
        "    color_scheme_match = re.search(r\"The color scheme of the room is \\[([^\\]]+)\\].\", text)\n",
        "\n",
        "    if decorative_elements_match:\n",
        "        features['Decorative Elements'] = decorative_elements_match.group(1).split(', ')\n",
        "    if color_scheme_match:\n",
        "        features['Color Scheme'] = color_scheme_match.group(1).split(', ')\n",
        "\n",
        "    return features\n",
        "\n",
        "# Sample input\n",
        "sample_input = \"\"\"\n",
        "Basic Information:\n",
        "Room Name: [Living Room]\n",
        "Dimensions: [15 x 20]\n",
        "\n",
        "Furniture and Layout:\n",
        "The living room is furnished with a sofa placed against the wall.\n",
        "There is a coffee table near the window.\n",
        "A bookshelf is located in the corner.\n",
        "\n",
        "Accessibility Features:\n",
        "The room has 2 windows, providing natural light.\n",
        "The flooring is made of hardwood.\n",
        "\n",
        "Technology and Devices:\n",
        "[TV] is located on the media console.\n",
        "[Sound System] is placed in the entertainment center.\n",
        "\n",
        "Other Details:\n",
        "Decorative elements include artwork and plants.\n",
        "The color scheme of the room is blue and beige.\n",
        "\"\"\"\n",
        "\n",
        "# Extract features from the sample input\n",
        "features = extract_features(sample_input)\n",
        "\n",
        "# Print the extracted features\n",
        "for key, value in features.items():\n",
        "    print(f\"{key}: {value}\")\n"
      ]
    },
    {
      "cell_type": "code",
      "source": [
        "import networkx as nx\n",
        "import matplotlib.pyplot as plt\n",
        "\n",
        "def create_room_graph(features):\n",
        "    G = nx.Graph()\n",
        "\n",
        "    # Add nodes for furniture and devices\n",
        "    for key, value in features.items():\n",
        "        if isinstance(value, dict) and 'Type' in value:\n",
        "            G.add_node(key, type=value['Type'])\n",
        "\n",
        "    # Add edges based on spatial relationships\n",
        "    for key, value in features.items():\n",
        "        if isinstance(value, dict) and 'Location' in value:\n",
        "            location = value['Location']\n",
        "            if location in features:\n",
        "                G.add_edge(key, location)\n",
        "\n",
        "    return G\n",
        "\n",
        "# Sample input (features extracted from the living room scenario)\n",
        "sample_features = {\n",
        "    'Living Room': {'Type': 'Room'},\n",
        "    'Sofa': {'Type': 'Furniture', 'Location': 'Against the wall'},\n",
        "    'Coffee Table': {'Type': 'Furniture', 'Location': 'Near the window'},\n",
        "    'Bookshelf': {'Type': 'Furniture', 'Location': 'In the corner'},\n",
        "    'TV': {'Type': 'Electronic Device', 'Location': 'On the media console'},\n",
        "    'Sound System': {'Type': 'Electronic Device', 'Location': 'In the entertainment center'},\n",
        "}\n",
        "\n",
        "# Create the room graph\n",
        "room_graph = create_room_graph(sample_features)\n",
        "\n",
        "# Draw the graph\n",
        "pos = nx.spring_layout(room_graph)  # Set layout algorithm\n",
        "nx.draw(room_graph, pos, with_labels=True, font_weight='bold', node_size=700, node_color='lightblue', font_size=8, font_color='black', edge_color='gray')\n",
        "\n",
        "# Display the graph\n",
        "plt.show()\n"
      ],
      "metadata": {
        "colab": {
          "base_uri": "https://localhost:8080/",
          "height": 516
        },
        "id": "RugHRhzEC1IA",
        "outputId": "c17608b0-3938-4ab8-93b6-1541a455a663"
      },
      "execution_count": 3,
      "outputs": [
        {
          "output_type": "display_data",
          "data": {
            "text/plain": [
              "<Figure size 640x480 with 1 Axes>"
            ],
            "image/png": "[encoded data removed]"
          },
          "metadata": {}
        }
      ]
    },
    {
      "cell_type": "code",
      "source": [
        "import networkx as nx\n",
        "import matplotlib.pyplot as plt\n",
        "\n",
        "def create_room_graph(features):\n",
        "    G = nx.Graph()\n",
        "\n",
        "    # Add nodes for furniture and devices\n",
        "    for key, value in features.items():\n",
        "        if isinstance(value, dict) and 'Type' in value:\n",
        "            G.add_node(key, type=value['Type'])\n",
        "\n",
        "    # Assume connections based on furniture proximity\n",
        "    for key1, value1 in features.items():\n",
        "        if isinstance(value1, dict) and 'Location' in value1:\n",
        "            for key2, value2 in features.items():\n",
        "                if key1 != key2 and isinstance(value2, dict) and 'Location' in value2:\n",
        "                    # Connect furniture items located near each other\n",
        "                    if value1['Location'] == value2['Location']:\n",
        "                        G.add_edge(key1, key2)\n",
        "\n",
        "    return G\n",
        "\n",
        "# Updated sample input with Coffee Table in the middle\n",
        "sample_features = {\n",
        "    'Living Room': {'Type': 'Room'},\n",
        "    'Sofa': {'Type': 'Furniture', 'Location': 'Against the wall'},\n",
        "    'Coffee Table': {'Type': 'Furniture', 'Location': 'In the middle'},\n",
        "    'Bookshelf': {'Type': 'Furniture', 'Location': 'In the corner'},\n",
        "    'TV': {'Type': 'Electronic Device', 'Location': 'On the media console'},\n",
        "    'Sound System': {'Type': 'Electronic Device', 'Location': 'In the entertainment center'},\n",
        "}\n",
        "\n",
        "# Create the room graph with connections based on proximity\n",
        "room_graph = create_room_graph(sample_features)\n",
        "\n",
        "# Set the position based on the specified location\n",
        "pos = {}\n",
        "for key, value in sample_features.items():\n",
        "    if isinstance(value, dict) and 'Location' in value:\n",
        "        location = value['Location']\n",
        "        if location == 'In the middle':\n",
        "            pos[key] = (0, 0)\n",
        "        elif location == 'Against the wall':\n",
        "            pos[key] = (-1, 1)\n",
        "        elif location == 'In the corner':\n",
        "            pos[key] = (1, 1)\n",
        "        elif location == 'On the media console':\n",
        "            pos[key] = (-1, -1)\n",
        "        elif location == 'In the entertainment center':\n",
        "            pos[key] = (1, -1)\n",
        "\n",
        "# Add a default position for the 'Living Room'\n",
        "pos.setdefault('Living Room', (0, 0))\n",
        "\n",
        "# Draw the graph with red edges, larger node size, and increased figure size\n",
        "nx.draw(room_graph, pos, with_labels=True, font_weight='bold', node_size=1200, node_color='lightblue', font_size=8, font_color='black', edge_color='red', width=2)\n",
        "\n",
        "# Display the graph\n",
        "plt.show()\n"
      ],
      "metadata": {
        "colab": {
          "base_uri": "https://localhost:8080/",
          "height": 516
        },
        "id": "yGhueggYFjin",
        "outputId": "d9d48fd2-c4c6-42d6-f262-d7d3aa6fba4f"
      },
      "execution_count": 10,
      "outputs": [
        {
          "output_type": "display_data",
          "data": {
            "text/plain": [
              "<Figure size 640x480 with 1 Axes>"
            ],
            "image/png": "[encoded data removed]"
          },
          "metadata": {}
        }
      ]
    }
  ]
}